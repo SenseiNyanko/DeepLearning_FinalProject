{
 "cells": [
  {
   "cell_type": "markdown",
   "id": "429d288c-77a6-42ee-8677-81a960e63503",
   "metadata": {},
   "source": [
    "# Clean Dataset"
   ]
  },
  {
   "cell_type": "code",
   "execution_count": 2,
   "id": "622cd61f-8cbe-4c2e-837c-99da41130752",
   "metadata": {},
   "outputs": [],
   "source": [
    "import pandas as pd;\n",
    "import numpy as np\n"
   ]
  },
  {
   "cell_type": "code",
   "execution_count": 4,
   "id": "aeab84e0-3c19-457a-bd71-10ee5b34803b",
   "metadata": {},
   "outputs": [],
   "source": [
    "HIVdata = pd.read_csv('datasets/HIV.csv')"
   ]
  },
  {
   "cell_type": "code",
   "execution_count": 8,
   "id": "27ef3d68-8cd6-4f91-b184-0272cf453324",
   "metadata": {},
   "outputs": [
    {
     "name": "stdout",
     "output_type": "stream",
     "text": [
      "                                               smiles activity  HIV_active\n",
      "0   CCC1=[O+][Cu-3]2([O+]=C(CC)C1)[O+]=C(CC)CC(CC)...       CI           0\n",
      "1   C(=Cc1ccccc1)C1=[O+][Cu-3]2([O+]=C(C=Cc3ccccc3...       CI           0\n",
      "2                    CC(=O)N1c2ccccc2Sc2c1ccc1ccccc21       CI           0\n",
      "3     Nc1ccc(C=Cc2ccc(N)cc2S(=O)(=O)O)c(S(=O)(=O)O)c1       CI           0\n",
      "4                              O=S(=O)(O)CCS(=O)(=O)O       CI           0\n",
      "5                          CCOP(=O)(Nc1cccc(Cl)c1)OCC       CI           0\n",
      "6                                     O=C(O)c1ccccc1O       CI           0\n",
      "7               CC1=C2C(=COC(C)C2C)C(O)=C(C(=O)O)C1=O       CI           0\n",
      "8   O=[N+]([O-])c1ccc(SSc2ccc([N+](=O)[O-])cc2[N+]...       CI           0\n",
      "9          O=[N+]([O-])c1ccccc1SSc1ccccc1[N+](=O)[O-]       CI           0\n",
      "10                            CC(C)(CCC(=O)O)CCC(=O)O       CI           0\n",
      "11               O=C(O)Cc1ccc(SSc2ccc(CC(=O)O)cc2)cc1       CM           1\n",
      "12                     O=C(O)c1ccccc1SSc1ccccc1C(=O)O       CI           0\n",
      "13  CCCCCCCCCCCC(=O)Nc1ccc(SSc2ccc(NC(=O)CCCCCCCCC...       CI           0\n",
      "14                                 Sc1cccc2c(S)cccc12       CI           0\n",
      "15                                CCOP(N)(=O)c1ccccc1       CI           0\n",
      "16                                NNP(=S)(NN)c1ccccc1       CM           1\n",
      "17                 O=P(Nc1ccccc1)(Nc1ccccc1)Nc1ccccc1       CI           0\n",
      "18   O=C1C(O)=C(CCCc2ccc(Oc3ccccc3)cc2)C(=O)c2ccccc21       CI           0\n",
      "19  CC(C)N(C(C)C)P(=O)(OP(=O)(c1ccc([N+](=O)[O-])c...       CI           0\n",
      "smiles        41127\n",
      "activity      41127\n",
      "HIV_active    41127\n",
      "dtype: int64\n"
     ]
    }
   ],
   "source": [
    "print(HIVdata.head(20))\n",
    "print(HIVdata.count()) #there are 41,127 rows of data related to HIV datasets"
   ]
  },
  {
   "cell_type": "code",
   "execution_count": 9,
   "id": "9f3682fe-0351-4db3-921f-05f48d762a9f",
   "metadata": {},
   "outputs": [
    {
     "data": {
      "text/html": [
       "<div>\n",
       "<style scoped>\n",
       "    .dataframe tbody tr th:only-of-type {\n",
       "        vertical-align: middle;\n",
       "    }\n",
       "\n",
       "    .dataframe tbody tr th {\n",
       "        vertical-align: top;\n",
       "    }\n",
       "\n",
       "    .dataframe thead th {\n",
       "        text-align: right;\n",
       "    }\n",
       "</style>\n",
       "<table border=\"1\" class=\"dataframe\">\n",
       "  <thead>\n",
       "    <tr style=\"text-align: right;\">\n",
       "      <th></th>\n",
       "      <th>smiles</th>\n",
       "      <th>activity</th>\n",
       "      <th>HIV_active</th>\n",
       "    </tr>\n",
       "  </thead>\n",
       "  <tbody>\n",
       "    <tr>\n",
       "      <th>0</th>\n",
       "      <td>CCC1=[O+][Cu-3]2([O+]=C(CC)C1)[O+]=C(CC)CC(CC)...</td>\n",
       "      <td>CI</td>\n",
       "      <td>0</td>\n",
       "    </tr>\n",
       "    <tr>\n",
       "      <th>1</th>\n",
       "      <td>C(=Cc1ccccc1)C1=[O+][Cu-3]2([O+]=C(C=Cc3ccccc3...</td>\n",
       "      <td>CI</td>\n",
       "      <td>0</td>\n",
       "    </tr>\n",
       "    <tr>\n",
       "      <th>2</th>\n",
       "      <td>CC(=O)N1c2ccccc2Sc2c1ccc1ccccc21</td>\n",
       "      <td>CI</td>\n",
       "      <td>0</td>\n",
       "    </tr>\n",
       "    <tr>\n",
       "      <th>3</th>\n",
       "      <td>Nc1ccc(C=Cc2ccc(N)cc2S(=O)(=O)O)c(S(=O)(=O)O)c1</td>\n",
       "      <td>CI</td>\n",
       "      <td>0</td>\n",
       "    </tr>\n",
       "    <tr>\n",
       "      <th>4</th>\n",
       "      <td>O=S(=O)(O)CCS(=O)(=O)O</td>\n",
       "      <td>CI</td>\n",
       "      <td>0</td>\n",
       "    </tr>\n",
       "    <tr>\n",
       "      <th>...</th>\n",
       "      <td>...</td>\n",
       "      <td>...</td>\n",
       "      <td>...</td>\n",
       "    </tr>\n",
       "    <tr>\n",
       "      <th>41122</th>\n",
       "      <td>CCC1CCC2c3c([nH]c4ccc(C)cc34)C3C(=O)N(N(C)C)C(...</td>\n",
       "      <td>CI</td>\n",
       "      <td>0</td>\n",
       "    </tr>\n",
       "    <tr>\n",
       "      <th>41123</th>\n",
       "      <td>Cc1ccc2[nH]c3c(c2c1)C1CCC(C(C)(C)C)CC1C1C(=O)N...</td>\n",
       "      <td>CI</td>\n",
       "      <td>0</td>\n",
       "    </tr>\n",
       "    <tr>\n",
       "      <th>41124</th>\n",
       "      <td>Cc1ccc(N2C(=O)C3c4[nH]c5ccccc5c4C4CCC(C(C)(C)C...</td>\n",
       "      <td>CI</td>\n",
       "      <td>0</td>\n",
       "    </tr>\n",
       "    <tr>\n",
       "      <th>41125</th>\n",
       "      <td>Cc1cccc(N2C(=O)C3c4[nH]c5ccccc5c4C4CCC(C(C)(C)...</td>\n",
       "      <td>CI</td>\n",
       "      <td>0</td>\n",
       "    </tr>\n",
       "    <tr>\n",
       "      <th>41126</th>\n",
       "      <td>CCCCCC=C(c1cc(Cl)c(OC)c(-c2nc(C)no2)c1)c1cc(Cl...</td>\n",
       "      <td>CI</td>\n",
       "      <td>0</td>\n",
       "    </tr>\n",
       "  </tbody>\n",
       "</table>\n",
       "<p>41127 rows × 3 columns</p>\n",
       "</div>"
      ],
      "text/plain": [
       "                                                  smiles activity  HIV_active\n",
       "0      CCC1=[O+][Cu-3]2([O+]=C(CC)C1)[O+]=C(CC)CC(CC)...       CI           0\n",
       "1      C(=Cc1ccccc1)C1=[O+][Cu-3]2([O+]=C(C=Cc3ccccc3...       CI           0\n",
       "2                       CC(=O)N1c2ccccc2Sc2c1ccc1ccccc21       CI           0\n",
       "3        Nc1ccc(C=Cc2ccc(N)cc2S(=O)(=O)O)c(S(=O)(=O)O)c1       CI           0\n",
       "4                                 O=S(=O)(O)CCS(=O)(=O)O       CI           0\n",
       "...                                                  ...      ...         ...\n",
       "41122  CCC1CCC2c3c([nH]c4ccc(C)cc34)C3C(=O)N(N(C)C)C(...       CI           0\n",
       "41123  Cc1ccc2[nH]c3c(c2c1)C1CCC(C(C)(C)C)CC1C1C(=O)N...       CI           0\n",
       "41124  Cc1ccc(N2C(=O)C3c4[nH]c5ccccc5c4C4CCC(C(C)(C)C...       CI           0\n",
       "41125  Cc1cccc(N2C(=O)C3c4[nH]c5ccccc5c4C4CCC(C(C)(C)...       CI           0\n",
       "41126  CCCCCC=C(c1cc(Cl)c(OC)c(-c2nc(C)no2)c1)c1cc(Cl...       CI           0\n",
       "\n",
       "[41127 rows x 3 columns]"
      ]
     },
     "execution_count": 9,
     "metadata": {},
     "output_type": "execute_result"
    }
   ],
   "source": [
    "HIVdata.dropna()"
   ]
  },
  {
   "cell_type": "code",
   "execution_count": 11,
   "id": "8502e411-84d5-47e9-9f82-69394a8508f8",
   "metadata": {},
   "outputs": [
    {
     "data": {
      "text/html": [
       "<div>\n",
       "<style scoped>\n",
       "    .dataframe tbody tr th:only-of-type {\n",
       "        vertical-align: middle;\n",
       "    }\n",
       "\n",
       "    .dataframe tbody tr th {\n",
       "        vertical-align: top;\n",
       "    }\n",
       "\n",
       "    .dataframe thead th {\n",
       "        text-align: right;\n",
       "    }\n",
       "</style>\n",
       "<table border=\"1\" class=\"dataframe\">\n",
       "  <thead>\n",
       "    <tr style=\"text-align: right;\">\n",
       "      <th></th>\n",
       "      <th>smiles</th>\n",
       "      <th>activity</th>\n",
       "      <th>HIV_active</th>\n",
       "    </tr>\n",
       "  </thead>\n",
       "  <tbody>\n",
       "    <tr>\n",
       "      <th>0</th>\n",
       "      <td>CCC1=[O+][Cu-3]2([O+]=C(CC)C1)[O+]=C(CC)CC(CC)...</td>\n",
       "      <td>CI</td>\n",
       "      <td>0</td>\n",
       "    </tr>\n",
       "    <tr>\n",
       "      <th>1</th>\n",
       "      <td>C(=Cc1ccccc1)C1=[O+][Cu-3]2([O+]=C(C=Cc3ccccc3...</td>\n",
       "      <td>CI</td>\n",
       "      <td>0</td>\n",
       "    </tr>\n",
       "    <tr>\n",
       "      <th>2</th>\n",
       "      <td>CC(=O)N1c2ccccc2Sc2c1ccc1ccccc21</td>\n",
       "      <td>CI</td>\n",
       "      <td>0</td>\n",
       "    </tr>\n",
       "    <tr>\n",
       "      <th>3</th>\n",
       "      <td>Nc1ccc(C=Cc2ccc(N)cc2S(=O)(=O)O)c(S(=O)(=O)O)c1</td>\n",
       "      <td>CI</td>\n",
       "      <td>0</td>\n",
       "    </tr>\n",
       "    <tr>\n",
       "      <th>4</th>\n",
       "      <td>O=S(=O)(O)CCS(=O)(=O)O</td>\n",
       "      <td>CI</td>\n",
       "      <td>0</td>\n",
       "    </tr>\n",
       "    <tr>\n",
       "      <th>5</th>\n",
       "      <td>CCOP(=O)(Nc1cccc(Cl)c1)OCC</td>\n",
       "      <td>CI</td>\n",
       "      <td>0</td>\n",
       "    </tr>\n",
       "    <tr>\n",
       "      <th>6</th>\n",
       "      <td>O=C(O)c1ccccc1O</td>\n",
       "      <td>CI</td>\n",
       "      <td>0</td>\n",
       "    </tr>\n",
       "    <tr>\n",
       "      <th>7</th>\n",
       "      <td>CC1=C2C(=COC(C)C2C)C(O)=C(C(=O)O)C1=O</td>\n",
       "      <td>CI</td>\n",
       "      <td>0</td>\n",
       "    </tr>\n",
       "    <tr>\n",
       "      <th>8</th>\n",
       "      <td>O=[N+]([O-])c1ccc(SSc2ccc([N+](=O)[O-])cc2[N+]...</td>\n",
       "      <td>CI</td>\n",
       "      <td>0</td>\n",
       "    </tr>\n",
       "    <tr>\n",
       "      <th>9</th>\n",
       "      <td>O=[N+]([O-])c1ccccc1SSc1ccccc1[N+](=O)[O-]</td>\n",
       "      <td>CI</td>\n",
       "      <td>0</td>\n",
       "    </tr>\n",
       "    <tr>\n",
       "      <th>10</th>\n",
       "      <td>CC(C)(CCC(=O)O)CCC(=O)O</td>\n",
       "      <td>CI</td>\n",
       "      <td>0</td>\n",
       "    </tr>\n",
       "    <tr>\n",
       "      <th>11</th>\n",
       "      <td>O=C(O)Cc1ccc(SSc2ccc(CC(=O)O)cc2)cc1</td>\n",
       "      <td>CM</td>\n",
       "      <td>1</td>\n",
       "    </tr>\n",
       "    <tr>\n",
       "      <th>12</th>\n",
       "      <td>O=C(O)c1ccccc1SSc1ccccc1C(=O)O</td>\n",
       "      <td>CI</td>\n",
       "      <td>0</td>\n",
       "    </tr>\n",
       "    <tr>\n",
       "      <th>13</th>\n",
       "      <td>CCCCCCCCCCCC(=O)Nc1ccc(SSc2ccc(NC(=O)CCCCCCCCC...</td>\n",
       "      <td>CI</td>\n",
       "      <td>0</td>\n",
       "    </tr>\n",
       "    <tr>\n",
       "      <th>14</th>\n",
       "      <td>Sc1cccc2c(S)cccc12</td>\n",
       "      <td>CI</td>\n",
       "      <td>0</td>\n",
       "    </tr>\n",
       "    <tr>\n",
       "      <th>15</th>\n",
       "      <td>CCOP(N)(=O)c1ccccc1</td>\n",
       "      <td>CI</td>\n",
       "      <td>0</td>\n",
       "    </tr>\n",
       "    <tr>\n",
       "      <th>16</th>\n",
       "      <td>NNP(=S)(NN)c1ccccc1</td>\n",
       "      <td>CM</td>\n",
       "      <td>1</td>\n",
       "    </tr>\n",
       "    <tr>\n",
       "      <th>17</th>\n",
       "      <td>O=P(Nc1ccccc1)(Nc1ccccc1)Nc1ccccc1</td>\n",
       "      <td>CI</td>\n",
       "      <td>0</td>\n",
       "    </tr>\n",
       "    <tr>\n",
       "      <th>18</th>\n",
       "      <td>O=C1C(O)=C(CCCc2ccc(Oc3ccccc3)cc2)C(=O)c2ccccc21</td>\n",
       "      <td>CI</td>\n",
       "      <td>0</td>\n",
       "    </tr>\n",
       "    <tr>\n",
       "      <th>19</th>\n",
       "      <td>CC(C)N(C(C)C)P(=O)(OP(=O)(c1ccc([N+](=O)[O-])c...</td>\n",
       "      <td>CI</td>\n",
       "      <td>0</td>\n",
       "    </tr>\n",
       "    <tr>\n",
       "      <th>20</th>\n",
       "      <td>c1ccc2c(c1)Sc1ccccc1S2</td>\n",
       "      <td>CI</td>\n",
       "      <td>0</td>\n",
       "    </tr>\n",
       "    <tr>\n",
       "      <th>21</th>\n",
       "      <td>CC(C)CCS(=O)(=O)O</td>\n",
       "      <td>CI</td>\n",
       "      <td>0</td>\n",
       "    </tr>\n",
       "    <tr>\n",
       "      <th>22</th>\n",
       "      <td>Cc1ccccc1NC(=N)Nc1ccccc1C</td>\n",
       "      <td>CI</td>\n",
       "      <td>0</td>\n",
       "    </tr>\n",
       "    <tr>\n",
       "      <th>23</th>\n",
       "      <td>CCCNP(=S)(NCCC)NCCC</td>\n",
       "      <td>CI</td>\n",
       "      <td>0</td>\n",
       "    </tr>\n",
       "    <tr>\n",
       "      <th>24</th>\n",
       "      <td>CCCCCCCCCCCCNP(=S)(NCCCCCCCCCCCC)NCCCCCCCCCCCC</td>\n",
       "      <td>CI</td>\n",
       "      <td>0</td>\n",
       "    </tr>\n",
       "    <tr>\n",
       "      <th>25</th>\n",
       "      <td>O=C1OC(=O)c2c1ccc1ccccc21</td>\n",
       "      <td>CI</td>\n",
       "      <td>0</td>\n",
       "    </tr>\n",
       "    <tr>\n",
       "      <th>26</th>\n",
       "      <td>S=P(NC1CCCCC1)(NC1CCCCC1)NC1CCCCC1</td>\n",
       "      <td>CI</td>\n",
       "      <td>0</td>\n",
       "    </tr>\n",
       "    <tr>\n",
       "      <th>27</th>\n",
       "      <td>Clc1ccnc2c1ccc1c(Cl)ccnc12</td>\n",
       "      <td>CI</td>\n",
       "      <td>0</td>\n",
       "    </tr>\n",
       "    <tr>\n",
       "      <th>28</th>\n",
       "      <td>O=C(OOC(=O)c1ccccc1)c1ccccc1</td>\n",
       "      <td>CI</td>\n",
       "      <td>0</td>\n",
       "    </tr>\n",
       "    <tr>\n",
       "      <th>29</th>\n",
       "      <td>c1ccc2nsnc2c1</td>\n",
       "      <td>CI</td>\n",
       "      <td>0</td>\n",
       "    </tr>\n",
       "  </tbody>\n",
       "</table>\n",
       "</div>"
      ],
      "text/plain": [
       "                                               smiles activity  HIV_active\n",
       "0   CCC1=[O+][Cu-3]2([O+]=C(CC)C1)[O+]=C(CC)CC(CC)...       CI           0\n",
       "1   C(=Cc1ccccc1)C1=[O+][Cu-3]2([O+]=C(C=Cc3ccccc3...       CI           0\n",
       "2                    CC(=O)N1c2ccccc2Sc2c1ccc1ccccc21       CI           0\n",
       "3     Nc1ccc(C=Cc2ccc(N)cc2S(=O)(=O)O)c(S(=O)(=O)O)c1       CI           0\n",
       "4                              O=S(=O)(O)CCS(=O)(=O)O       CI           0\n",
       "5                          CCOP(=O)(Nc1cccc(Cl)c1)OCC       CI           0\n",
       "6                                     O=C(O)c1ccccc1O       CI           0\n",
       "7               CC1=C2C(=COC(C)C2C)C(O)=C(C(=O)O)C1=O       CI           0\n",
       "8   O=[N+]([O-])c1ccc(SSc2ccc([N+](=O)[O-])cc2[N+]...       CI           0\n",
       "9          O=[N+]([O-])c1ccccc1SSc1ccccc1[N+](=O)[O-]       CI           0\n",
       "10                            CC(C)(CCC(=O)O)CCC(=O)O       CI           0\n",
       "11               O=C(O)Cc1ccc(SSc2ccc(CC(=O)O)cc2)cc1       CM           1\n",
       "12                     O=C(O)c1ccccc1SSc1ccccc1C(=O)O       CI           0\n",
       "13  CCCCCCCCCCCC(=O)Nc1ccc(SSc2ccc(NC(=O)CCCCCCCCC...       CI           0\n",
       "14                                 Sc1cccc2c(S)cccc12       CI           0\n",
       "15                                CCOP(N)(=O)c1ccccc1       CI           0\n",
       "16                                NNP(=S)(NN)c1ccccc1       CM           1\n",
       "17                 O=P(Nc1ccccc1)(Nc1ccccc1)Nc1ccccc1       CI           0\n",
       "18   O=C1C(O)=C(CCCc2ccc(Oc3ccccc3)cc2)C(=O)c2ccccc21       CI           0\n",
       "19  CC(C)N(C(C)C)P(=O)(OP(=O)(c1ccc([N+](=O)[O-])c...       CI           0\n",
       "20                             c1ccc2c(c1)Sc1ccccc1S2       CI           0\n",
       "21                                  CC(C)CCS(=O)(=O)O       CI           0\n",
       "22                          Cc1ccccc1NC(=N)Nc1ccccc1C       CI           0\n",
       "23                                CCCNP(=S)(NCCC)NCCC       CI           0\n",
       "24     CCCCCCCCCCCCNP(=S)(NCCCCCCCCCCCC)NCCCCCCCCCCCC       CI           0\n",
       "25                          O=C1OC(=O)c2c1ccc1ccccc21       CI           0\n",
       "26                 S=P(NC1CCCCC1)(NC1CCCCC1)NC1CCCCC1       CI           0\n",
       "27                         Clc1ccnc2c1ccc1c(Cl)ccnc12       CI           0\n",
       "28                       O=C(OOC(=O)c1ccccc1)c1ccccc1       CI           0\n",
       "29                                      c1ccc2nsnc2c1       CI           0"
      ]
     },
     "execution_count": 11,
     "metadata": {},
     "output_type": "execute_result"
    }
   ],
   "source": [
    "HIVdata.head(30)"
   ]
  },
  {
   "cell_type": "markdown",
   "id": "0c6bb68f-bd10-4f35-ab96-aef1a3d3ad6d",
   "metadata": {},
   "source": [
    "# HIV datset is already clean so no need to clean it, it has 3 features and 41127 records."
   ]
  },
  {
   "cell_type": "code",
   "execution_count": 12,
   "id": "e92f7e87-e88e-4d41-928d-67d2cea1e8ca",
   "metadata": {},
   "outputs": [
    {
     "name": "stdout",
     "output_type": "stream",
     "text": [
      "<class 'pandas.core.frame.DataFrame'>\n",
      "RangeIndex: 41127 entries, 0 to 41126\n",
      "Data columns (total 3 columns):\n",
      " #   Column      Non-Null Count  Dtype \n",
      "---  ------      --------------  ----- \n",
      " 0   smiles      41127 non-null  object\n",
      " 1   activity    41127 non-null  object\n",
      " 2   HIV_active  41127 non-null  int64 \n",
      "dtypes: int64(1), object(2)\n",
      "memory usage: 964.0+ KB\n"
     ]
    }
   ],
   "source": [
    "HIVdata.info()"
   ]
  },
  {
   "cell_type": "code",
   "execution_count": 15,
   "id": "279d7254-a399-4760-827e-e4498e3be1f5",
   "metadata": {},
   "outputs": [
    {
     "name": "stdout",
     "output_type": "stream",
     "text": [
      "smiles values:  ['CCC1=[O+][Cu-3]2([O+]=C(CC)C1)[O+]=C(CC)CC(CC)=[O+]2'\n",
      " 'C(=Cc1ccccc1)C1=[O+][Cu-3]2([O+]=C(C=Cc3ccccc3)CC(c3ccccc3)=[O+]2)[O+]=C(c2ccccc2)C1'\n",
      " 'CC(=O)N1c2ccccc2Sc2c1ccc1ccccc21' ...\n",
      " 'Cc1ccc(N2C(=O)C3c4[nH]c5ccccc5c4C4CCC(C(C)(C)C)CC4C3C2=O)cc1'\n",
      " 'Cc1cccc(N2C(=O)C3c4[nH]c5ccccc5c4C4CCC(C(C)(C)C)CC4C3C2=O)c1'\n",
      " 'CCCCCC=C(c1cc(Cl)c(OC)c(-c2nc(C)no2)c1)c1cc(Cl)c(OC)c(-c2nc(C)no2)c1']\n",
      "activity values:  ['CI' 'CM' 'CA']\n",
      "HIV_active values:  [0 1]\n"
     ]
    }
   ],
   "source": [
    "#print unique values for each features\n",
    "print(\"smiles values: \",HIVdata['smiles'].unique())\n",
    "print(\"activity values: \",HIVdata['activity'].unique())\n",
    "print(\"HIV_active values: \",HIVdata['HIV_active'].unique()) \n",
    "print(\"HIV_active values: \",HIVdata['HIV_active'].unique()) "
   ]
  },
  {
   "cell_type": "markdown",
   "id": "91f40ec9-123b-472e-9e60-f5c31c3c7aa6",
   "metadata": {},
   "source": [
    "#  there are 3 values for activity feature, 2 value for HIV_active"
   ]
  },
  {
   "cell_type": "code",
   "execution_count": 17,
   "id": "049b4040-412a-40d1-93cc-a94ecbb64188",
   "metadata": {},
   "outputs": [
    {
     "name": "stdout",
     "output_type": "stream",
     "text": [
      "Count of positive HIV case: 1443\n",
      "Count of negative HIV case: 39684\n"
     ]
    }
   ],
   "source": [
    "counts = HIVdata['HIV_active'].value_counts()\n",
    "\n",
    "print(\"Count of positive HIV case:\", counts.get(1, 0))\n",
    "print(\"Count of negative HIV case:\", counts.get(0, 0))"
   ]
  },
  {
   "cell_type": "code",
   "execution_count": 21,
   "id": "da944ad3-f20b-4c9b-90bc-0142abe1f19f",
   "metadata": {},
   "outputs": [
    {
     "name": "stdout",
     "output_type": "stream",
     "text": [
      "Count of activity CI: 39684\n",
      "Count of activity CM: 1039\n",
      "Count of activity CA 404\n"
     ]
    }
   ],
   "source": [
    "counts = HIVdata['activity'].value_counts()\n",
    "\n",
    "print(\"Count of activity CI:\", counts.get('CI', 0))\n",
    "print(\"Count of activity CM:\", counts.get('CM', 0))\n",
    "print(\"Count of activity CA\", counts.get('CA', 0))"
   ]
  },
  {
   "cell_type": "code",
   "execution_count": 24,
   "id": "118a4104-81ac-4362-a8c9-86195aefd89a",
   "metadata": {},
   "outputs": [
    {
     "data": {
      "image/png": "[encoded data removed]",
      "text/plain": [
       "<Figure size 640x480 with 1 Axes>"
      ]
     },
     "metadata": {},
     "output_type": "display_data"
    }
   ],
   "source": [
    "import seaborn as sns\n",
    "import matplotlib.pyplot as plt\n",
    "\n",
    "sns.countplot(x='HIV_active', data=HIVdata)\n",
    "plt.title('Distribution of HIV Cases')\n",
    "plt.xlabel('HIV_active')\n",
    "plt.ylabel('Count')\n",
    "plt.show()"
   ]
  },
  {
   "cell_type": "code",
   "execution_count": 27,
   "id": "5c8f8578-d6d9-4196-b6c7-f994313fb15f",
   "metadata": {},
   "outputs": [
    {
     "data": {
      "image/png": "[encoded data removed]",
      "text/plain": [
       "<Figure size 640x480 with 1 Axes>"
      ]
     },
     "metadata": {},
     "output_type": "display_data"
    }
   ],
   "source": [
    "sns.boxplot(x='HIV_active', y='activity', data=HIVdata)\n",
    "plt.title('Activity Distribution with HIV Cases')\n",
    "plt.xlabel('HIV_active')\n",
    "plt.ylabel('activity')\n",
    "plt.show()"
   ]
  },
  {
   "cell_type": "code",
   "execution_count": 29,
   "id": "9c3580b7-2bce-4041-a0b8-5ed80654396b",
   "metadata": {},
   "outputs": [],
   "source": [
    "# from sklearn.model_selection import train_test_split\n",
    "\n",
    "# # Step 1: feature is activity and smiles, target is hiv_active\n",
    "# X = HIVdata[['activity', 'smiles']]\n",
    "# y = HIVdata['HIV_active']\n",
    "\n",
    "# X_train, X_temp, y_train, y_temp = train_test_split(\n",
    "#     X, y, test_size=0.25, random_state=42, stratify=y\n",
    "# )\n",
    "\n",
    "# #from temp, separating val and test\n",
    "\n",
    "# X_val, X_test, y_val, y_test = train_test_split(\n",
    "#     X_temp, y_temp, test_size=0.4, random_state=42, stratify=y_temp\n",
    "# )"
   ]
  },
  {
   "cell_type": "code",
   "execution_count": null,
   "id": "4dbcf1e5-ba37-4b29-9035-cfaeb6ea858d",
   "metadata": {},
   "outputs": [],
   "source": []
  }
 ],
 "metadata": {
  "kernelspec": {
   "display_name": "Python 3 (ipykernel)",
   "language": "python",
   "name": "python3"
  },
  "language_info": {
   "codemirror_mode": {
    "name": "ipython",
    "version": 3
   },
   "file_extension": ".py",
   "mimetype": "text/x-python",
   "name": "python",
   "nbconvert_exporter": "python",
   "pygments_lexer": "ipython3",
   "version": "3.12.7"
  }
 },
 "nbformat": 4,
 "nbformat_minor": 5
}
