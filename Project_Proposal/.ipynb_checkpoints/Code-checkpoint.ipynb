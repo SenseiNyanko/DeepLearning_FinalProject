{
 "cells": [
  {
   "cell_type": "markdown",
   "id": "429d288c-77a6-42ee-8677-81a960e63503",
   "metadata": {},
   "source": [
    "# Clean Dataset"
   ]
  }
 ],
 "metadata": {
  "kernelspec": {
   "display_name": "Python 3 (ipykernel)",
   "language": "python",
   "name": "python3"
  },
  "language_info": {
   "codemirror_mode": {
    "name": "ipython",
    "version": 3
   },
   "file_extension": ".py",
   "mimetype": "text/x-python",
   "name": "python",
   "nbconvert_exporter": "python",
   "pygments_lexer": "ipython3",
   "version": "3.12.7"
  }
 },
 "nbformat": 4,
 "nbformat_minor": 5
}
